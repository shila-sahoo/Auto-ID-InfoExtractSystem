{
 "cells": [
  {
   "cell_type": "code",
   "execution_count": 13,
   "id": "31042fd2",
   "metadata": {},
   "outputs": [
    {
     "name": "stdout",
     "output_type": "stream",
     "text": [
      "\u001b[33mWARNING: Ignoring invalid distribution - (/opt/conda/lib/python3.8/site-packages)\u001b[0m\u001b[33m\n",
      "\u001b[0m\u001b[33mWARNING: Ignoring invalid distribution -umpy (/opt/conda/lib/python3.8/site-packages)\u001b[0m\u001b[33m\n",
      "\u001b[0mLooking in indexes: https://pypi.org/simple, https://pypi.ngc.nvidia.com\n",
      "Requirement already satisfied: pycryptodome in /opt/conda/lib/python3.8/site-packages (3.17)\n",
      "\u001b[33mWARNING: Ignoring invalid distribution - (/opt/conda/lib/python3.8/site-packages)\u001b[0m\u001b[33m\n",
      "\u001b[0m\u001b[33mWARNING: Ignoring invalid distribution -umpy (/opt/conda/lib/python3.8/site-packages)\u001b[0m\u001b[33m\n",
      "\u001b[0m\u001b[33mDEPRECATION: torch-tensorrt 1.1.0a0 has a non-standard dependency specifier torch>=1.10.0+cu113<1.11.0. pip 24.1 will enforce this behaviour change. A possible replacement is to upgrade to a newer version of torch-tensorrt or contact the author to suggest that they release a version with a conforming dependency specifiers. Discussion can be found at https://github.com/pypa/pip/issues/12063\u001b[0m\u001b[33m\n",
      "\u001b[0m\u001b[33mWARNING: Running pip as the 'root' user can result in broken permissions and conflicting behaviour with the system package manager. It is recommended to use a virtual environment instead: https://pip.pypa.io/warnings/venv\u001b[0m\u001b[33m\n",
      "\u001b[0m"
     ]
    }
   ],
   "source": [
    "!pip3 install pycryptodome"
   ]
  },
  {
   "cell_type": "markdown",
   "id": "d22a7fcd",
   "metadata": {},
   "source": [
    "# AutoID-InfoExtract System: A method for classifying document images and retrieving information for Adhar"
   ]
  },
  {
   "cell_type": "code",
   "execution_count": 20,
   "id": "9a88b31e",
   "metadata": {},
   "outputs": [],
   "source": [
    "from encryption_decryption import data_security\n",
    "ds = data_security()\n",
    "encr = ds.encrypt(\"/workspace/aadhar.jpg\")"
   ]
  },
  {
   "cell_type": "code",
   "execution_count": 22,
   "id": "5173f9a4",
   "metadata": {},
   "outputs": [
    {
     "name": "stdout",
     "output_type": "stream",
     "text": [
      "{'name': 'Amrut Arvind Mudgal', 'dob': '31/03/1990', 'gender': 'Male', 'aadhar_number': '609228678789', 'vid': '', 'message': 'Success'}\n"
     ]
    }
   ],
   "source": [
    "import requests\n",
    "import json\n",
    "\n",
    "headers = {\n",
    "    'accept': 'application/json',\n",
    "    'Content-Type': 'application/json',\n",
    "}\n",
    "\n",
    "json_params = {\n",
    "    'id_parameters': {\n",
    "        'key': 'Shila@123',\n",
    "        'job_id': '30',\n",
    "        'img_str': encr}\n",
    "}\n",
    "\n",
    "r = requests.post('http://127.0.0.1:8000/autoid', headers=headers, json=json_params)\n",
    "\n",
    "\n",
    "if r.status_code == 200:\n",
    "        json_res=json.loads(r.content.decode('utf-8'))\n",
    "        print(json_res)"
   ]
  },
  {
   "cell_type": "code",
   "execution_count": null,
   "id": "aea6f2c7",
   "metadata": {},
   "outputs": [],
   "source": []
  },
  {
   "cell_type": "code",
   "execution_count": null,
   "id": "dc08bcad",
   "metadata": {},
   "outputs": [],
   "source": []
  }
 ],
 "metadata": {
  "kernelspec": {
   "display_name": "Python 3",
   "language": "python",
   "name": "python3"
  },
  "language_info": {
   "codemirror_mode": {
    "name": "ipython",
    "version": 3
   },
   "file_extension": ".py",
   "mimetype": "text/x-python",
   "name": "python",
   "nbconvert_exporter": "python",
   "pygments_lexer": "ipython3",
   "version": "3.8.12"
  }
 },
 "nbformat": 4,
 "nbformat_minor": 5
}
